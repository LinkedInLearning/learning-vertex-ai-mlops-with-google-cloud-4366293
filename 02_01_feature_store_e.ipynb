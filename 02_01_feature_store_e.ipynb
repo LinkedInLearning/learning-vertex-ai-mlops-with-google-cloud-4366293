{
 "cells": [
  {
   "cell_type": "markdown",
   "metadata": {
    "id": "JAPoU8Sm5E6e"
   },
   "source": [
    "# Vertex AI Feature Store"
   ]
  },
  {
   "cell_type": "markdown",
   "metadata": {},
   "source": [
    "In this exercise we will create a feature store for the iris dataset and upload some data to it. Here are the steps you need to perform:\n",
    "1. Create a new feature store\n",
    "2. Create a new entity in the feature store and some features for that entity\n",
    "3. Upload data to the feature store"
   ]
  },
  {
   "cell_type": "code",
   "execution_count": null,
   "metadata": {
    "id": "2b4ef9b72d43"
   },
   "outputs": [],
   "source": [
    "! pip3 install --upgrade google-cloud-aiplatform --user -q"
   ]
  },
  {
   "cell_type": "markdown",
   "metadata": {
    "id": "hhq5zEbGg0XX"
   },
   "source": [
    "### Restart the kernel\n",
    "\n",
    "After you install the SDK, you need to restart the notebook kernel so it can find the packages. You can restart kernel from *Kernel -> Restart Kernel*, or by running the following:"
   ]
  },
  {
   "cell_type": "code",
   "execution_count": null,
   "metadata": {
    "id": "EzrelQZ22IZj"
   },
   "outputs": [],
   "source": [
    "# Automatically restart kernel after installs\n",
    "import os\n",
    "\n",
    "if not os.getenv(\"IS_TESTING\"):\n",
    "    # Automatically restart kernel after installs\n",
    "    import IPython\n",
    "\n",
    "    app = IPython.Application.instance()\n",
    "    app.kernel.do_shutdown(True)"
   ]
  },
  {
   "cell_type": "markdown",
   "metadata": {
    "id": "WReHDGG5g0XY"
   },
   "source": [
    "#### Setting the project ID and region"
   ]
  },
  {
   "cell_type": "code",
   "execution_count": null,
   "metadata": {
    "id": "oM1iC_MfAts1"
   },
   "outputs": [],
   "source": [
    "shell_output = ! gcloud config list --format 'value(core.project)' 2>/dev/null\n",
    "PROJECT_ID = shell_output[0]\n",
    "print(\"Project ID:\", PROJECT_ID)\n",
    "\n",
    "REGION = \"us-central1\""
   ]
  },
  {
   "cell_type": "code",
   "execution_count": null,
   "metadata": {
    "id": "250cb8c648d5"
   },
   "outputs": [],
   "source": [
    "! gcloud config set project $PROJECT_ID"
   ]
  },
  {
   "cell_type": "markdown",
   "metadata": {
    "id": "timestamp"
   },
   "source": [
    "#### UUID\n",
    "\n",
    "Some resources like the cloud bucket will need to have a unique name. An easy way to do that is to use a UUID."
   ]
  },
  {
   "cell_type": "code",
   "execution_count": null,
   "metadata": {
    "id": "timestamp"
   },
   "outputs": [],
   "source": [
    "import random\n",
    "import string\n",
    "\n",
    "\n",
    "# Generate a UUID of a specifed length(default=8)\n",
    "def generate_uuid(length: int = 8) -> str:\n",
    "    return \"\".join(random.choices(string.ascii_lowercase + string.digits, k=length))\n",
    "\n",
    "\n",
    "UUID = generate_uuid()"
   ]
  },
  {
   "cell_type": "markdown",
   "metadata": {
    "id": "XoEqT2Y4DJmf"
   },
   "source": [
    "### Import libraries and define constants"
   ]
  },
  {
   "cell_type": "code",
   "execution_count": null,
   "metadata": {
    "id": "Cdct_Lm7x2I_"
   },
   "outputs": [],
   "source": [
    "from google.cloud.aiplatform import Feature, Featurestore\n",
    "\n",
    "FEATURESTORE_ID = \"iris\" + UUID\n",
    "INPUT_CSV_FILE = \"bq://bigquery-public-data.ml_datasets.iris\"\n",
    "ONLINE_STORE_FIXED_NODE_COUNT = 1"
   ]
  },
  {
   "cell_type": "markdown",
   "metadata": {
    "id": "buQBIv3ZL3A0"
   },
   "source": [
    "### Create featurestore"
   ]
  },
  {
   "cell_type": "code",
   "execution_count": null,
   "metadata": {
    "id": "D6uIWQeoBSr8"
   },
   "outputs": [],
   "source": [
    "fs = Featurestore.create(\n",
    "    featurestore_id=FEATURESTORE_ID,\n",
    "    online_store_fixed_node_count=ONLINE_STORE_FIXED_NODE_COUNT,\n",
    "    project=PROJECT_ID,\n",
    "    location=REGION,\n",
    "    sync=True,\n",
    ")"
   ]
  },
  {
   "cell_type": "markdown",
   "metadata": {
    "id": "ag8pCQ7rNjVf"
   },
   "source": [
    "Use the following function call to retrieve a featurestore and check that it has been created.\n"
   ]
  },
  {
   "cell_type": "code",
   "execution_count": null,
   "metadata": {
    "id": "eKhD4q8rXjmM"
   },
   "outputs": [],
   "source": [
    "fs = Featurestore(\n",
    "    featurestore_name=FEATURESTORE_ID,\n",
    "    project=PROJECT_ID,\n",
    "    location=REGION,\n",
    ")\n",
    "print(fs.gca_resource)"
   ]
  },
  {
   "cell_type": "markdown",
   "metadata": {
    "id": "EpmJq75zXjmT"
   },
   "source": [
    "### Create entity Type"
   ]
  },
  {
   "cell_type": "code",
   "execution_count": null,
   "metadata": {
    "id": "GU0oXvINBgPV"
   },
   "outputs": [],
   "source": [
    "# Create the `users` entity type\n",
    "species_entity_type = fs.create_entity_type(\n",
    "    entity_type_id=\"species\",\n",
    "    description=\"Species entity\",\n",
    ")"
   ]
  },
  {
   "cell_type": "markdown",
   "metadata": {
    "id": "G0TS9i5SJnkt"
   },
   "source": [
    "To retrieve an entity type or check that it has been created use the [get_entity_type](https://github.com/googleapis/python-aiplatform/blob/main/google/cloud/aiplatform/featurestore/featurestore.py#L106) or [list_entity_types](https://github.com/googleapis/python-aiplatform/blob/main/google/cloud/aiplatform/featurestore/featurestore.py#L278) methods on the Featurestore object.\n"
   ]
  },
  {
   "cell_type": "code",
   "execution_count": null,
   "metadata": {
    "id": "5DHcAyoFJmq9"
   },
   "outputs": [],
   "source": [
    "species_entity_type = fs.get_entity_type(entity_type_id=\"species\")\n",
    "\n",
    "print(species_entity_type)"
   ]
  },
  {
   "cell_type": "code",
   "execution_count": null,
   "metadata": {
    "id": "EWMzDNFT5qf0"
   },
   "outputs": [],
   "source": [
    "fs.list_entity_types()"
   ]
  },
  {
   "cell_type": "markdown",
   "metadata": {
    "id": "FJW4q-0jO2Xf"
   },
   "source": [
    "### Create feature\n"
   ]
  },
  {
   "cell_type": "code",
   "execution_count": null,
   "metadata": {
    "id": "PvjwT84iVSps"
   },
   "outputs": [],
   "source": [
    "# To create one feature at a time, use:\n",
    "species_feature_sepal_length = species_entity_type.create_feature(\n",
    "    feature_id=\"sepal_length\",\n",
    "    value_type=\"DOUBLE\",\n",
    "    description=\"Sepal Length\",\n",
    ")\n",
    "\n",
    "species_feature_sepal_width = species_entity_type.create_feature(\n",
    "    feature_id=\"sepal_width\",\n",
    "    value_type=\"DOUBLE\",\n",
    "    description=\"Sepal Width\",\n",
    ")"
   ]
  },
  {
   "cell_type": "markdown",
   "metadata": {
    "id": "RQ9-AyFYBvcX"
   },
   "source": [
    "Use the [`list_features`](https://github.com/googleapis/python-aiplatform/blob/main/google/cloud/aiplatform/featurestore/entity_type.py#L349) method to list all the features of a given entity type."
   ]
  },
  {
   "cell_type": "code",
   "execution_count": null,
   "metadata": {
    "id": "S5Lr8uXk1xD0"
   },
   "outputs": [],
   "source": [
    "users_entity_type.list_features()"
   ]
  },
  {
   "cell_type": "markdown",
   "metadata": {
    "id": "xUVOzrAb1AFX"
   },
   "source": [
    "### Search created features"
   ]
  },
  {
   "cell_type": "code",
   "execution_count": null,
   "metadata": {
    "id": "OAiv8p8LMdLJ"
   },
   "outputs": [],
   "source": [
    "my_features = Feature.search(query=\"featurestore_id={}\".format(FEATURESTORE_ID))\n",
    "my_features"
   ]
  },
  {
   "cell_type": "markdown",
   "metadata": {
    "id": "jcxsiBUiIyvE"
   },
   "source": [
    "Now, narrow down the search to features that are of type `DOUBLE`."
   ]
  },
  {
   "cell_type": "code",
   "execution_count": null,
   "metadata": {
    "id": "a9ovJSyEI4OZ"
   },
   "outputs": [],
   "source": [
    "double_features = Feature.search(\n",
    "    query=\"value_type=DOUBLE AND featurestore_id={}\".format(FEATURESTORE_ID)\n",
    ")\n",
    "double_features[0].gca_resource"
   ]
  },
  {
   "cell_type": "markdown",
   "metadata": {
    "id": "Wtr9tvH6JAOY"
   },
   "source": [
    "Or, limit the search results to features with specific keywords in their ID and type."
   ]
  },
  {
   "cell_type": "markdown",
   "metadata": {
    "id": "K3n5XdK8Xjmw"
   },
   "source": [
    "## Import feature values"
   ]
  },
  {
   "cell_type": "code",
   "execution_count": null,
   "metadata": {
    "id": "dS8QbDPfkSEe"
   },
   "outputs": [],
   "source": [
    "USERS_FEATURES_IDS = [feature.name for feature in users_entity_type.list_features()]\n",
    "USERS_FEATURE_TIME = \"update_time\"\n",
    "USERS_ENTITY_ID_FIELD = \"species\"\n",
    "USERS_GCS_SOURCE_URI = (\n",
    "    \"bq://bigquery-public-data.ml_datasets.iris\"\n",
    ")\n",
    "GCS_SOURCE_TYPE = \"table\"\n",
    "WORKER_COUNT = 1\n",
    "print(USERS_FEATURES_IDS)"
   ]
  },
  {
   "cell_type": "code",
   "execution_count": null,
   "metadata": {},
   "outputs": [],
   "source": [
    "import datetime\n",
    "USERS_FEATURE_TIME=datetime.datetime.now()\n",
    "USERS_FEATURE_TIME"
   ]
  },
  {
   "cell_type": "code",
   "execution_count": null,
   "metadata": {
    "id": "x86Dtg0Vu-uf"
   },
   "outputs": [],
   "source": [
    "species_entity_type.ingest_from_bq(\n",
    "    feature_ids=USERS_FEATURES_IDS,\n",
    "    feature_time=USERS_FEATURE_TIME,\n",
    "    entity_id_field=USERS_ENTITY_ID_FIELD,\n",
    "    bq_source_uri=USERS_GCS_SOURCE_URI\n",
    ")"
   ]
  },
  {
   "cell_type": "markdown",
   "metadata": {
    "id": "foNB0D2aw37c"
   },
   "source": [
    "### Read one entity per request"
   ]
  },
  {
   "cell_type": "code",
   "execution_count": null,
   "metadata": {
    "id": "084G80L_DWwd"
   },
   "outputs": [],
   "source": [
    "species_entity_type.read(entity_ids=\"versicolor\")"
   ]
  },
  {
   "cell_type": "markdown",
   "metadata": {
    "id": "TpV-iwP9qw9c"
   },
   "source": [
    "### Remember to delete all the resources you created to save costs"
   ]
  },
  {
   "cell_type": "code",
   "execution_count": null,
   "metadata": {
    "id": "kzkD2SWJ2gIK"
   },
   "outputs": [],
   "source": [
    "# Delete Featurestore\n",
    "fs.delete(force=True)\n",
    "\n",
    "# Delete BigQuery dataset\n",
    "client = bigquery.Client(project=PROJECT_ID)\n",
    "client.delete_dataset(\n",
    "    DESTINATION_DATA_SET, delete_contents=True, not_found_ok=True\n",
    ")  # Make an API request.\n",
    "\n",
    "print(\"Deleted dataset '{}'.\".format(DESTINATION_DATA_SET))"
   ]
  }
 ],
 "metadata": {
  "accelerator": "GPU",
  "colab": {
   "collapsed_sections": [
    "BlqJ-QdTcs6W",
    "hKwWGg2i4a4G"
   ],
   "name": "sdk-feature-store.ipynb",
   "toc_visible": true
  },
  "environment": {
   "kernel": "python3",
   "name": "common-cpu.m103",
   "type": "gcloud",
   "uri": "gcr.io/deeplearning-platform-release/base-cpu:m103"
  },
  "kernelspec": {
   "display_name": "Python 3",
   "language": "python",
   "name": "python3"
  },
  "language_info": {
   "codemirror_mode": {
    "name": "ipython",
    "version": 3
   },
   "file_extension": ".py",
   "mimetype": "text/x-python",
   "name": "python",
   "nbconvert_exporter": "python",
   "pygments_lexer": "ipython3",
   "version": "3.7.12"
  }
 },
 "nbformat": 4,
 "nbformat_minor": 4
}
